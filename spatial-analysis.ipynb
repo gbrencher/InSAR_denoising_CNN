{
 "cells": [
  {
   "cell_type": "markdown",
   "id": "0efbce92",
   "metadata": {
    "tags": []
   },
   "source": [
    "# Geospatial data analysis of time series\n",
    "Quinn Brencher"
   ]
  },
  {
   "cell_type": "code",
   "execution_count": 1,
   "id": "dec0c891",
   "metadata": {
    "tags": []
   },
   "outputs": [],
   "source": [
    "# Import required packages\n",
    "%matplotlib inline\n",
    "import os\n",
    "import numpy as np\n",
    "import pandas as pd\n",
    "import geopandas as gpd\n",
    "import rasterio as rio\n",
    "from rasterio import plot, mask\n",
    "from rasterio.warp import calculate_default_transform, reproject, Resampling\n",
    "import matplotlib.pyplot as plt\n",
    "import h5py\n",
    "import xarray as xr\n",
    "import datetime as dt\n",
    "import rioxarray"
   ]
  },
  {
   "cell_type": "markdown",
   "id": "7fa08efd",
   "metadata": {},
   "source": [
    "## Load in and rebuild uncorrected time series data"
   ]
  },
  {
   "cell_type": "code",
   "execution_count": 2,
   "id": "600a906b",
   "metadata": {},
   "outputs": [],
   "source": [
    "os.chdir('/Users/qbren/Desktop/taco/projects/atmospheric_correction/data_processing/mintpy_nocorrection_sanjuans_asc')"
   ]
  },
  {
   "cell_type": "code",
   "execution_count": 3,
   "id": "5b429385",
   "metadata": {},
   "outputs": [],
   "source": [
    "# open time series data \n",
    "uncorrected_disp_fn = 'timeseries_ramp_demErr.h5'\n",
    "uncorrected_disp_df = xr.open_dataset(uncorrected_disp_fn, phony_dims='sort')"
   ]
  },
  {
   "cell_type": "code",
   "execution_count": 4,
   "id": "9b1bf6d3",
   "metadata": {},
   "outputs": [],
   "source": [
    "# rename variables\n",
    "uncorrected_disp_df = uncorrected_disp_df.rename({'date': 'dstring',\n",
    "                          'timeseries': 'displacement'})"
   ]
  },
  {
   "cell_type": "code",
   "execution_count": 5,
   "id": "463064a4",
   "metadata": {},
   "outputs": [],
   "source": [
    "# rename dims\n",
    "uncorrected_disp_df = uncorrected_disp_df.rename_dims({'phony_dim_0':'date',\n",
    "                               'phony_dim_1':'latitude',\n",
    "                               'phony_dim_2':'longitude'})"
   ]
  },
  {
   "cell_type": "code",
   "execution_count": 6,
   "id": "e19c09c0",
   "metadata": {},
   "outputs": [],
   "source": [
    "# use the 'date' data variable to create date list\n",
    "date_list = []\n",
    "for i in range(uncorrected_disp_df['dstring'].size):\n",
    "    date = str(uncorrected_disp_df['dstring'][i].item())\n",
    "    date_list.append(dt.datetime.strptime(date[2:10], '%Y%m%d'))"
   ]
  },
  {
   "cell_type": "code",
   "execution_count": 7,
   "id": "734d1e88",
   "metadata": {},
   "outputs": [],
   "source": [
    "# function to rewrite coordinates from metadata\n",
    "def coord_range(df, coord):\n",
    "    if coord == 'lat' or coord == 'latitude':\n",
    "        latrange = np.linspace(float(df.attrs['Y_FIRST']),((float(df.attrs['Y_STEP'])*float(df.attrs['LENGTH']))+float(df.attrs['Y_FIRST'])),int(df.attrs['LENGTH']))\n",
    "        return latrange\n",
    "    elif coord == 'lon' or coord == 'longitude':\n",
    "        lonrange = np.linspace(float(df.attrs['X_FIRST']),((float(df.attrs['X_STEP'])*float(df.attrs['WIDTH']))+float(df.attrs['X_FIRST'])),int(df.attrs['WIDTH']))\n",
    "        return lonrange"
   ]
  },
  {
   "cell_type": "code",
   "execution_count": 8,
   "id": "25b919d6",
   "metadata": {},
   "outputs": [],
   "source": [
    "# rebuild coordinates\n",
    "uncorrected_disp_df = uncorrected_disp_df.assign_coords({'date': ('date', np.array(date_list)),\n",
    "                                 'latitude': ('latitude', coord_range(uncorrected_disp_df, 'lat')),\n",
    "                                 'longitude': ('longitude', coord_range(uncorrected_disp_df, 'lon'))})"
   ]
  },
  {
   "cell_type": "code",
   "execution_count": 9,
   "id": "717cffc8",
   "metadata": {},
   "outputs": [
    {
     "data": {
      "text/plain": [
       "CRS.from_epsg(32613)"
      ]
     },
     "execution_count": 9,
     "metadata": {},
     "output_type": "execute_result"
    }
   ],
   "source": [
    "# set correct CRS\n",
    "uncorrected_disp_df = uncorrected_disp_df.rio.write_crs(32613)\n",
    "uncorrected_disp_df.rio.crs"
   ]
  },
  {
   "cell_type": "markdown",
   "id": "9a43b684",
   "metadata": {},
   "source": [
    "## Load in uncorrected average velocity"
   ]
  },
  {
   "cell_type": "code",
   "execution_count": 10,
   "id": "7ff25f5a",
   "metadata": {},
   "outputs": [],
   "source": [
    "# load in average velocity\n",
    "uncorrected_vel_fn = 'velocity.h5'\n",
    "uncorrected_vel_df = xr.open_dataset(uncorrected_vel_fn, phony_dims='sort')"
   ]
  },
  {
   "cell_type": "code",
   "execution_count": 11,
   "id": "d02f622b",
   "metadata": {},
   "outputs": [],
   "source": [
    "# rebuild dataset\n",
    "uncorrected_vel_df = uncorrected_vel_df.rename_dims({'phony_dim_0':'latitude',\n",
    "                             'phony_dim_1':'longitude'})\n",
    "\n",
    "uncorrected_vel_df = uncorrected_vel_df.assign_coords({'latitude': ('latitude', coord_range(uncorrected_vel_df, 'lat')), \n",
    "                               'longitude': ('longitude', coord_range(uncorrected_vel_df, 'lon'))})\n",
    "\n",
    "uncorrected_vel_df = uncorrected_vel_df.rio.write_crs(32613)"
   ]
  },
  {
   "cell_type": "markdown",
   "id": "aa9aafc2",
   "metadata": {},
   "source": [
    "## Load in corrected time series data"
   ]
  },
  {
   "cell_type": "code",
   "execution_count": 12,
   "id": "78a27153",
   "metadata": {},
   "outputs": [],
   "source": [
    "os.chdir('/Users/qbren/Desktop/taco/projects/atmospheric_correction/data_processing/mintpy_correction_sanjuans_asc')"
   ]
  },
  {
   "cell_type": "code",
   "execution_count": 13,
   "id": "fa1b6507",
   "metadata": {},
   "outputs": [
    {
     "data": {
      "text/plain": [
       "CRS.from_epsg(32613)"
      ]
     },
     "execution_count": 13,
     "metadata": {},
     "output_type": "execute_result"
    }
   ],
   "source": [
    "# open time series data \n",
    "corrected_disp_fn = 'timeseries_ramp_demErr.h5'\n",
    "corrected_disp_df = xr.open_dataset(corrected_disp_fn, phony_dims='sort')\n",
    "\n",
    "# rename variables\n",
    "corrected_disp_df = corrected_disp_df.rename({'date': 'dstring',\n",
    "                          'timeseries': 'displacement'})\n",
    "\n",
    "# rename dims\n",
    "corrected_disp_df = corrected_disp_df.rename_dims({'phony_dim_0':'date',\n",
    "                               'phony_dim_1':'latitude',\n",
    "                               'phony_dim_2':'longitude'})\n",
    "\n",
    "# rebuild coordinates\n",
    "corrected_disp_df = corrected_disp_df.assign_coords({'date': ('date', np.array(date_list)),\n",
    "                                 'latitude': ('latitude', coord_range(corrected_disp_df, 'lat')),\n",
    "                                 'longitude': ('longitude', coord_range(corrected_disp_df, 'lon'))})\n",
    "\n",
    "# set correct CRS\n",
    "corrected_disp_df = corrected_disp_df.rio.write_crs(32613)\n",
    "corrected_disp_df.rio.crs"
   ]
  },
  {
   "cell_type": "markdown",
   "id": "727a3fa1",
   "metadata": {},
   "source": [
    "## Load in corrected velocity"
   ]
  },
  {
   "cell_type": "code",
   "execution_count": 14,
   "id": "349bbc8f",
   "metadata": {},
   "outputs": [],
   "source": [
    "# load in average velocity\n",
    "corrected_vel_fn = 'velocity.h5'\n",
    "corrected_vel_df = xr.open_dataset(corrected_vel_fn, phony_dims='sort')\n",
    "\n",
    "# rebuild dataset\n",
    "corrected_vel_df = corrected_vel_df.rename_dims({'phony_dim_0':'latitude',\n",
    "                             'phony_dim_1':'longitude'})\n",
    "\n",
    "corrected_vel_df = corrected_vel_df.assign_coords({'latitude': ('latitude', coord_range(corrected_vel_df, 'lat')), \n",
    "                               'longitude': ('longitude', coord_range(corrected_vel_df, 'lon'))})\n",
    "\n",
    "corrected_vel_df = corrected_vel_df.rio.write_crs(32613)"
   ]
  },
  {
   "cell_type": "markdown",
   "id": "f34f6811",
   "metadata": {},
   "source": [
    "## Load in polygons"
   ]
  },
  {
   "cell_type": "code",
   "execution_count": 15,
   "id": "5b3567ee",
   "metadata": {},
   "outputs": [],
   "source": [
    "# load json of aoi \n",
    "aoi_fn = '/Users/qbren/Desktop/taco/projects/atmospheric_correction/data_processing/shapefiles/sanjuans_rg8_asc.shp'\n",
    "aoi_gdf = gpd.read_file(aoi_fn)"
   ]
  },
  {
   "cell_type": "code",
   "execution_count": 16,
   "id": "b8dc3886",
   "metadata": {},
   "outputs": [],
   "source": [
    "# load json of stable reference areas\n",
    "stable_fn = '/Users/qbren/Desktop/taco/projects/atmospheric_correction/data_processing/shapefiles/sanjuans_stable6_asc.shp'\n",
    "stable_gdf = gpd.read_file(stable_fn)"
   ]
  },
  {
   "cell_type": "markdown",
   "id": "f78b35f0",
   "metadata": {},
   "source": [
    "## Change reference points"
   ]
  },
  {
   "cell_type": "code",
   "execution_count": 17,
   "id": "328021d5",
   "metadata": {},
   "outputs": [],
   "source": [
    "# function to find value of new reference point in each time slice and subtract it from data array\n",
    "\n",
    "def change_ref(xarray, lat, lon):\n",
    "    rref_list = []\n",
    "    reref = xarray.copy(deep=True)\n",
    "    for i in range(xarray.sizes['date']):\n",
    "        # get value from grid\n",
    "        rref_list.append(float(xarray.isel(date=i).displacement.sel(longitude=lon, latitude=lat, method=\"nearest\").values))\n",
    "    reref['displacement'] = xarray['displacement'] - xr.DataArray(rref_list, dims='date')\n",
    "    return reref       "
   ]
  },
  {
   "cell_type": "code",
   "execution_count": 18,
   "id": "d50a2ace",
   "metadata": {},
   "outputs": [],
   "source": [
    "#Sanity check: reference point in highly degforming area\n",
    "uncorrected_disp_rref = change_ref(uncorrected_disp_df, 4176891, 251524)\n",
    "corrected_disp_rref = change_ref(corrected_disp_df, 4176891, 251524)"
   ]
  },
  {
   "cell_type": "markdown",
   "id": "1a8fe5ad",
   "metadata": {},
   "source": [
    "## Displacement of aoi in corrected and uncorrected"
   ]
  },
  {
   "cell_type": "code",
   "execution_count": 19,
   "id": "d344634b",
   "metadata": {},
   "outputs": [],
   "source": [
    "# clip to aoi, clip to reference areas\n",
    "corrected_disp_aoi = corrected_disp_rref.rio.clip(aoi_gdf.geometry, crs=aoi_gdf.crs, drop=False)\n",
    "uncorrected_disp_aoi = uncorrected_disp_rref.rio.clip(aoi_gdf.geometry, crs=aoi_gdf.crs, drop=False)\n",
    "\n",
    "corrected_disp_stable = corrected_disp_rref.rio.clip(stable_gdf.geometry, crs=stable_gdf.crs, drop=False)\n",
    "uncorrected_disp_stable = uncorrected_disp_rref.rio.clip(stable_gdf.geometry, crs=stable_gdf.crs, drop=False)"
   ]
  },
  {
   "cell_type": "code",
   "execution_count": 22,
   "id": "b11d4e90",
   "metadata": {},
   "outputs": [
    {
     "data": {
      "image/png": "[encoded data removed]",
      "text/plain": [
       "<Figure size 1080x504 with 1 Axes>"
      ]
     },
     "metadata": {
      "needs_background": "light"
     },
     "output_type": "display_data"
    }
   ],
   "source": [
    "# look at cumulative displacement in aoi and reference area\n",
    "quantile = [0.01, 0.99]\n",
    "\n",
    "f, ax = plt.subplots(figsize=(15,7))\n",
    "ax.axhline(y=0, c='gray', alpha=0.5)\n",
    "\n",
    "corrected_disp_aoi.median(dim=('latitude', 'longitude')).displacement.plot(ax=ax, label='median corrected, feature', c='indigo', marker='o', linewidth=0, alpha=0.7)\n",
    "corrected_disp_aoi.quantile(q=quantile[0], dim=('latitude', 'longitude')).displacement.plot(ax=ax, label=f'quantiles {quantile[0]}, {quantile[1]} corrected, feature', c='indigo', marker='o', linewidth=0, alpha=0.2)\n",
    "corrected_disp_aoi.quantile(q=quantile[1], dim=('latitude', 'longitude')).displacement.plot(ax=ax, c='indigo', marker='o', linewidth=0, alpha=0.2)\n",
    "\n",
    "uncorrected_disp_aoi.median(dim=('latitude', 'longitude')).displacement.plot(ax=ax, label='median uncorrected, feature', c='goldenrod', marker='o', linewidth=0, alpha=0.7)\n",
    "uncorrected_disp_aoi.quantile(q=quantile[0], dim=('latitude', 'longitude')).displacement.plot(ax=ax, label=f'quantiles {quantile[0]}, {quantile[1]} uncorrected, feature', c='goldenrod', marker='o', linewidth=0, alpha=0.3)\n",
    "uncorrected_disp_aoi.quantile(q=quantile[1], dim=('latitude', 'longitude')).displacement.plot(ax=ax, c='goldenrod', marker='o', linewidth=0, alpha=0.3)\n",
    "\n",
    "corrected_disp_stable.median(dim=('latitude', 'longitude')).displacement.plot(ax=ax, label='median CNN corrected, stable area', c='k', marker='o', linewidth=0, alpha=0.5)\n",
    "uncorrected_disp_stable.median(dim=('latitude', 'longitude')).displacement.plot(ax=ax, label='median uncorrected, stable area', c='gray', marker='o', linewidth=0, alpha=0.3)\n",
    "\n",
    "\n",
    "ax.set_title('Cumulative LOS displacement of feature and stable area')\n",
    "ax.set_ylabel('displacement (m)')\n",
    "ax.set_xlabel('time')\n",
    "ax.legend();\n",
    "\n",
    "#plt.savefig('dispv0.png', dpi=300)"
   ]
  },
  {
   "cell_type": "markdown",
   "id": "17a26016",
   "metadata": {},
   "source": [
    "## Convert to tif for download"
   ]
  },
  {
   "cell_type": "code",
   "execution_count": 21,
   "id": "93cb085c",
   "metadata": {},
   "outputs": [],
   "source": [
    "#uncorrected_vel_df.rio.to_raster('nocorrection_velocv1.tif')\n",
    "#corrected_vel_df.rio.to_raster('correction_velocv1.tif')"
   ]
  }
 ],
 "metadata": {
  "kernelspec": {
   "display_name": "Python 3 (ipykernel)",
   "language": "python",
   "name": "python3"
  },
  "language_info": {
   "codemirror_mode": {
    "name": "ipython",
    "version": 3
   },
   "file_extension": ".py",
   "mimetype": "text/x-python",
   "name": "python",
   "nbconvert_exporter": "python",
   "pygments_lexer": "ipython3",
   "version": "3.10.5"
  }
 },
 "nbformat": 4,
 "nbformat_minor": 5
}
